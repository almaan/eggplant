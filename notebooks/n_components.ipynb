{
 "cells": [
  {
   "cell_type": "markdown",
   "metadata": {},
   "source": [
    "## Human Breast Cancer\n",
    "**Date** : 2021-10-05<br>\n",
    "**Author** : Alma Andersson<br>\n",
    "**Description** : This notebook outlines the analysis related to the human breast cancer data."
   ]
  },
  {
   "cell_type": "code",
   "execution_count": 10,
   "metadata": {},
   "outputs": [
    {
     "name": "stdout",
     "output_type": "stream",
     "text": [
      "The autoreload extension is already loaded. To reload it, use:\n",
      "  %reload_ext autoreload\n"
     ]
    }
   ],
   "source": [
    "%load_ext autoreload\n",
    "%autoreload 2\n",
    "\n",
    "import os.path as osp\n",
    "import matplotlib.pyplot as plt\n",
    "import anndata as ad\n",
    "import eggplant as eg\n",
    "import pandas as pd\n",
    "import scanpy as sc\n",
    "import numpy as np"
   ]
  },
  {
   "cell_type": "code",
   "execution_count": 11,
   "metadata": {},
   "outputs": [],
   "source": [
    "SAVE_MODE = True"
   ]
  },
  {
   "cell_type": "code",
   "execution_count": 12,
   "metadata": {},
   "outputs": [],
   "source": [
    "CNT_PTHS = [\"../data/human-breast-cancer/curated/bcA.h5ad\",\n",
    "            \"../data/human-breast-cancer/curated/bcB.h5ad\"]\n",
    "\n",
    "PROP_PTHS = [\"../data/human-breast-cancer/sterescope/bcA.tsv\",\n",
    "             \"../data/human-breast-cancer/sterescope/bcB.tsv\"]\n",
    "\n",
    "RES_DIR = \"../../res/analysis/human-breast-cancer/\""
   ]
  },
  {
   "cell_type": "code",
   "execution_count": 13,
   "metadata": {},
   "outputs": [
    {
     "name": "stderr",
     "output_type": "stream",
     "text": [
      "Variable names are not unique. To make them unique, call `.var_names_make_unique`.\n",
      "Variable names are not unique. To make them unique, call `.var_names_make_unique`.\n"
     ]
    }
   ],
   "source": [
    "adatas = [ad.read_h5ad(p) for p in CNT_PTHS]\n",
    "props = [pd.read_csv(p,sep=\"\\t\",header = 0,index_col = 0) for p in PROP_PTHS]"
   ]
  },
  {
   "cell_type": "markdown",
   "metadata": {},
   "source": [
    "add proportion estimates"
   ]
  },
  {
   "cell_type": "code",
   "execution_count": 14,
   "metadata": {},
   "outputs": [],
   "source": [
    "for k in range(len(adatas)):\n",
    "    _tmp = props[k]\n",
    "    _tmp.index  = adatas[k].obs.index\n",
    "    _tmp.iloc[:,:] = (_tmp.values - _tmp.values.mean(axis=0)) / _tmp.values.std(axis=0)\n",
    "    adatas[k].obsm[\"stereoscope\"] = _tmp\n",
    "\n",
    "adatas = {\"bcA\":adatas[0],\"bcB\":adatas[1]}"
   ]
  },
  {
   "cell_type": "markdown",
   "metadata": {},
   "source": [
    "inspect anndata object"
   ]
  },
  {
   "cell_type": "code",
   "execution_count": 15,
   "metadata": {},
   "outputs": [
    {
     "name": "stderr",
     "output_type": "stream",
     "text": [
      "Variable names are not unique. To make them unique, call `.var_names_make_unique`.\n",
      "Variable names are not unique. To make them unique, call `.var_names_make_unique`.\n",
      "Variable names are not unique. To make them unique, call `.var_names_make_unique`.\n",
      "Variable names are not unique. To make them unique, call `.var_names_make_unique`.\n",
      "Variable names are not unique. To make them unique, call `.var_names_make_unique`.\n",
      "Variable names are not unique. To make them unique, call `.var_names_make_unique`.\n"
     ]
    },
    {
     "name": "stdout",
     "output_type": "stream",
     "text": [
      "AnnData object with n_obs × n_vars = 3798 × 11993\n",
      "    obs: 'in_tissue', 'array_row', 'array_col', 'n_counts'\n",
      "    var: 'gene_ids', 'feature_types', 'genome', 'n_cells', 'mean', 'std'\n",
      "    uns: 'curated_landmarks', 'spatial', 'log1p', 'pca'\n",
      "    obsm: 'spatial', 'stereoscope', 'X_pca'\n",
      "    varm: 'PCs'\n"
     ]
    },
    {
     "name": "stderr",
     "output_type": "stream",
     "text": [
      "Variable names are not unique. To make them unique, call `.var_names_make_unique`.\n",
      "Variable names are not unique. To make them unique, call `.var_names_make_unique`.\n"
     ]
    },
    {
     "name": "stdout",
     "output_type": "stream",
     "text": [
      "AnnData object with n_obs × n_vars = 3986 × 11801\n",
      "    obs: 'in_tissue', 'array_row', 'array_col', 'n_counts'\n",
      "    var: 'gene_ids', 'feature_types', 'genome', 'n_cells', 'mean', 'std'\n",
      "    uns: 'curated_landmarks', 'spatial', 'log1p', 'pca'\n",
      "    obsm: 'spatial', 'stereoscope', 'X_pca'\n",
      "    varm: 'PCs'\n"
     ]
    }
   ],
   "source": [
    "for a in adatas.values():\n",
    "    sc.pp.filter_cells(a,min_counts=100)\n",
    "    eg.pp.default_normalization(a,min_cells = 0.1)\n",
    "    sc.pp.pca(a,n_comps=250)\n",
    "    print(a)"
   ]
  },
  {
   "cell_type": "code",
   "execution_count": 46,
   "metadata": {},
   "outputs": [
    {
     "data": {
      "text/plain": [
       "0.07137042"
      ]
     },
     "execution_count": 46,
     "metadata": {},
     "output_type": "execute_result"
    }
   ],
   "source": [
    "cum_expl_var[20-1]"
   ]
  },
  {
   "cell_type": "code",
   "execution_count": 44,
   "metadata": {},
   "outputs": [
    {
     "data": {
      "image/png": "[encoded data removed]",
      "text/plain": [
       "<Figure size 1152x288 with 2 Axes>"
      ]
     },
     "metadata": {
      "needs_background": "light"
     },
     "output_type": "display_data"
    }
   ],
   "source": [
    "import matplotlib.pyplot as plt\n",
    "fig,ax = plt.subplots(1,2,figsize = (16,4))\n",
    "for n,(k,a) in enumerate(adatas.items()):\n",
    "    cum_expl_var = np.cumsum(a.uns[\"pca\"][\"variance_ratio\"])\n",
    "    xs = np.arange(len(cum_expl_var))\n",
    "    ax[n].plot(xs,cum_expl_var,\"o-\")"
   ]
  }
 ],
 "metadata": {
  "kernelspec": {
   "display_name": "Python 3",
   "language": "python",
   "name": "python3"
  },
  "language_info": {
   "codemirror_mode": {
    "name": "ipython",
    "version": 3
   },
   "file_extension": ".py",
   "mimetype": "text/x-python",
   "name": "python",
   "nbconvert_exporter": "python",
   "pygments_lexer": "ipython3",
   "version": "3.8.12"
  }
 },
 "nbformat": 4,
 "nbformat_minor": 2
}
