{
 "cells": [
  {
   "cell_type": "markdown",
   "id": "7646c831",
   "metadata": {},
   "source": [
    "## Estimation of number of minimum required landmark\n",
    "\n",
    "This notebook outlines our analysis to estimate the minimum number of required landmarks in each data set. We sometimes choose to chart more landmarks than the lower bound. There are two main reasons for this: (i) spatial symmetries, when samples posses internal symmetry identification of $N$ suitable landmarks in one part of this symmetric structure, we immediately have $2N$ landmark in the whole tissue; (ii) sometimes the landmarks are hard to pin-point exactly, and we thus attempt to correct for eventual errors by introducing more landmarks, making the transfer less dependent on the correctness of each landmark."
   ]
  },
  {
   "cell_type": "code",
   "execution_count": 1,
   "id": "9aa7afd3",
   "metadata": {},
   "outputs": [],
   "source": [
    "%load_ext autoreload\n",
    "%autoreload 2\n",
    "\n",
    "import matplotlib.pyplot as plt\n",
    "import scanpy as sc\n",
    "\n",
    "import os.path as osp\n",
    "import os\n",
    "from PIL import Image\n",
    "\n",
    "import anndata as ad\n",
    "import pandas as pd\n",
    "import sys\n",
    "\n",
    "import eggplant as eg\n"
   ]
  },
  {
   "cell_type": "code",
   "execution_count": 23,
   "id": "688862ab",
   "metadata": {},
   "outputs": [],
   "source": [
    "PLOT_RES_DIR = \"../../res/analysis/n-lmk-evaluation\"\n",
    "DATA_RES_DIR = \"../../res/references/vars/est-lmk\"\n",
    "\n",
    "KNEEDLE_S_PARAM = 1\n",
    "SAVE_MODE = True"
   ]
  },
  {
   "cell_type": "markdown",
   "id": "b5cccd4e",
   "metadata": {},
   "source": [
    "### MOB (Mouse Olfactory Bulb)"
   ]
  },
  {
   "cell_type": "code",
   "execution_count": null,
   "id": "291527f7",
   "metadata": {},
   "outputs": [],
   "source": [
    "sample_name = \"mob\""
   ]
  },
  {
   "cell_type": "code",
   "execution_count": null,
   "id": "875cf820",
   "metadata": {},
   "outputs": [],
   "source": [
    "MOB_PTH = \"../data/mob/charted/Rep10_MOB.h5ad\""
   ]
  },
  {
   "cell_type": "code",
   "execution_count": 3,
   "id": "d19d82c5",
   "metadata": {},
   "outputs": [],
   "source": [
    "adata = ad.read_h5ad(MOB_PTH)"
   ]
  },
  {
   "cell_type": "code",
   "execution_count": 4,
   "id": "87d24dc4",
   "metadata": {},
   "outputs": [
    {
     "name": "stdout",
     "output_type": "stream",
     "text": [
      "[Processing] :: Sample : Rep10_MOB (1/1)\n"
     ]
    },
    {
     "name": "stderr",
     "output_type": "stream",
     "text": [
      "/home/alma/.local/lib/python3.7/site-packages/torch/cuda/__init__.py:52: UserWarning: CUDA initialization: The NVIDIA driver on your system is too old (found version 10010). Please update your GPU driver by downloading and installing a new version from the URL: http://www.nvidia.com/Download/index.aspx Alternatively, go to: https://pytorch.org to install a PyTorch version that has been compiled with your version of the CUDA driver. (Triggered internally at  /pytorch/c10/cuda/CUDAFunctions.cpp:109.)\n",
      "  return torch._C._cuda_getDeviceCount() > 0\n",
      "Eval. 1 lmks :: 100%|██████████| 1000/1000 [00:05<00:00, 169.57it/s]\n",
      "Eval. 2 lmks :: 100%|██████████| 1000/1000 [00:06<00:00, 163.47it/s]\n",
      "Eval. 3 lmks :: 100%|██████████| 1000/1000 [00:06<00:00, 154.44it/s]\n",
      "Eval. 4 lmks :: 100%|██████████| 1000/1000 [00:05<00:00, 166.96it/s]\n",
      "Eval. 5 lmks :: 100%|██████████| 1000/1000 [00:06<00:00, 147.96it/s]\n",
      "Eval. 7 lmks :: 100%|██████████| 1000/1000 [00:06<00:00, 154.87it/s]\n",
      "Eval. 8 lmks :: 100%|██████████| 1000/1000 [00:06<00:00, 159.63it/s]\n",
      "Eval. 9 lmks :: 100%|██████████| 1000/1000 [00:07<00:00, 135.96it/s]\n",
      "Eval. 10 lmks :: 100%|██████████| 1000/1000 [00:06<00:00, 153.48it/s]\n",
      "Eval. 11 lmks :: 100%|██████████| 1000/1000 [00:06<00:00, 148.41it/s]\n",
      "Eval. 13 lmks :: 100%|██████████| 1000/1000 [00:06<00:00, 152.20it/s]\n",
      "Eval. 14 lmks :: 100%|██████████| 1000/1000 [00:07<00:00, 136.03it/s]\n",
      "Eval. 15 lmks :: 100%|██████████| 1000/1000 [00:06<00:00, 151.87it/s]\n",
      "Eval. 16 lmks :: 100%|██████████| 1000/1000 [00:07<00:00, 140.38it/s]\n",
      "Eval. 18 lmks :: 100%|██████████| 1000/1000 [00:06<00:00, 150.93it/s]\n"
     ]
    }
   ],
   "source": [
    "res = eg.fun.estimate_n_lanmdarks(dict(Rep10_MOB= adata),\n",
    "                                  n_max_lmks=20,\n",
    "                                  subsample = None,\n",
    "                                  n_epochs=1000,\n",
    "                                  n_evals=10,\n",
    "                                  device=\"gpu\",\n",
    "                                  verbose = True,\n",
    "                                  kneedle_s_param=KNEEDLE_S_PARAM,\n",
    "                                 )"
   ]
  },
  {
   "cell_type": "code",
   "execution_count": 7,
   "id": "f71198a4",
   "metadata": {
    "scrolled": true
   },
   "outputs": [
    {
     "data": {
      "image/png": "[encoded data removed]",
      "text/plain": [
       "<Figure size 504x288 with 1 Axes>"
      ]
     },
     "metadata": {
      "needs_background": "light"
     },
     "output_type": "display_data"
    }
   ],
   "source": [
    "fig,ax = eg.pl.landmark_diagnostics(res,return_figure = True)\n",
    "if SAVE_MODE:\n",
    "    fig.savefig(osp.join(PLOT_RES_DIR,\"est-lmk-{}.png\".format(sample_name)),\n",
    "                bbox_inches = \"tight\")\n",
    "    with open(osp.join(DATA_RES_DIR,\"est-lmk-{}\".format(sample_name)),\"w+\") as f:\n",
    "        f.write(str(list(res[2].values())[0]))"
   ]
  },
  {
   "cell_type": "markdown",
   "id": "386a8284",
   "metadata": {},
   "source": [
    "## Heart Data"
   ]
  },
  {
   "cell_type": "code",
   "execution_count": 17,
   "id": "b609555a",
   "metadata": {},
   "outputs": [
    {
     "name": "stderr",
     "output_type": "stream",
     "text": [
      "Variable names are not unique. To make them unique, call `.var_names_make_unique`.\n"
     ]
    },
    {
     "name": "stdout",
     "output_type": "stream",
     "text": [
      "[Processing] :: Sample : dhA (1/1)\n"
     ]
    },
    {
     "name": "stderr",
     "output_type": "stream",
     "text": [
      "Eval. 1 lmks :: 100%|██████████| 1000/1000 [02:27<00:00,  6.77it/s]\n",
      "Eval. 3 lmks :: 100%|██████████| 1000/1000 [02:30<00:00,  6.64it/s]\n",
      "Eval. 5 lmks :: 100%|██████████| 1000/1000 [02:28<00:00,  6.75it/s]\n",
      "Eval. 7 lmks :: 100%|██████████| 1000/1000 [02:29<00:00,  6.69it/s]\n",
      "Eval. 9 lmks :: 100%|██████████| 1000/1000 [02:29<00:00,  6.69it/s]\n",
      "Eval. 11 lmks :: 100%|██████████| 1000/1000 [02:29<00:00,  6.71it/s]\n",
      "Eval. 13 lmks :: 100%|██████████| 1000/1000 [02:28<00:00,  6.72it/s]\n",
      "Eval. 15 lmks :: 100%|██████████| 1000/1000 [02:28<00:00,  6.74it/s]\n",
      "Eval. 17 lmks :: 100%|██████████| 1000/1000 [02:28<00:00,  6.76it/s]\n",
      "Eval. 20 lmks :: 100%|██████████| 1000/1000 [02:27<00:00,  6.76it/s]\n"
     ]
    }
   ],
   "source": [
    "HEART_PTH = \"../data/human-developmental-heart/curated/V10F24-105_A1.h5ad\"\n",
    "adata = ad.read_h5ad(HEART_PTH)\n",
    "res = eg.fun.estimate_n_lanmdarks(dict(dhA= adata),\n",
    "                                  n_max_lmks=20,\n",
    "                                  subsample = None,\n",
    "                                  n_epochs=1000,\n",
    "                                  n_evals=10,\n",
    "                                  device=\"gpu\",\n",
    "                                  verbose = True,\n",
    "                                  kneedle_s_param=KNEEDLE_S_PARAM,\n",
    "                                 )"
   ]
  },
  {
   "cell_type": "code",
   "execution_count": 20,
   "id": "40e3736e",
   "metadata": {},
   "outputs": [
    {
     "data": {
      "image/png": "[encoded data removed]",
      "text/plain": [
       "<Figure size 432x288 with 1 Axes>"
      ]
     },
     "metadata": {
      "needs_background": "light"
     },
     "output_type": "display_data"
    }
   ],
   "source": [
    "fig,ax = eg.pl.landmark_diagnostics(res,return_figure=True)\n",
    "if SAVE_MODE:\n",
    "    fig.savefig(osp.join(PLOT_RES_DIR,\"est-lmk-{}.png\".format(sample_name)),\n",
    "                bbox_inches = \"tight\")\n",
    "    with open(osp.join(DATA_RES_DIR,\"est-lmk-{}\".format(sample_name)),\"w+\") as f:\n",
    "        f.write(str(list(res[2].values())[0]))"
   ]
  },
  {
   "cell_type": "markdown",
   "id": "603ae1b7",
   "metadata": {},
   "source": [
    "## Mouse Hippocampus"
   ]
  },
  {
   "cell_type": "code",
   "execution_count": null,
   "id": "36f9c1fc",
   "metadata": {},
   "outputs": [],
   "source": [
    "sample_name = \"mouse-hippocampus\""
   ]
  },
  {
   "cell_type": "code",
   "execution_count": null,
   "id": "b55dcc06",
   "metadata": {},
   "outputs": [],
   "source": [
    "MOUSE_HIPPO_PATH = \"../data/mouse-hippocampus/curated/hippo-visium.h5ad\"\n",
    "adata = ad.read_h5ad(MOUSE_HIPPO_PATH)"
   ]
  },
  {
   "cell_type": "code",
   "execution_count": 12,
   "id": "c45eeb3e",
   "metadata": {},
   "outputs": [
    {
     "name": "stdout",
     "output_type": "stream",
     "text": [
      "[Processing] :: Sample : mouse_hippo_visium (1/1)\n"
     ]
    },
    {
     "name": "stderr",
     "output_type": "stream",
     "text": [
      "Eval. 1 lmks :: 100%|██████████| 1000/1000 [02:37<00:00,  6.36it/s]\n",
      "Eval. 3 lmks :: 100%|██████████| 1000/1000 [02:51<00:00,  5.84it/s]\n",
      "Eval. 5 lmks :: 100%|██████████| 1000/1000 [02:41<00:00,  6.18it/s]\n",
      "Eval. 7 lmks :: 100%|██████████| 1000/1000 [02:39<00:00,  6.25it/s]\n",
      "Eval. 9 lmks :: 100%|██████████| 1000/1000 [02:39<00:00,  6.26it/s]\n",
      "Eval. 11 lmks :: 100%|██████████| 1000/1000 [02:32<00:00,  6.57it/s]\n",
      "Eval. 13 lmks :: 100%|██████████| 1000/1000 [02:36<00:00,  6.37it/s]\n",
      "Eval. 15 lmks :: 100%|██████████| 1000/1000 [02:41<00:00,  6.17it/s]\n",
      "Eval. 17 lmks :: 100%|██████████| 1000/1000 [02:42<00:00,  6.14it/s]\n",
      "Eval. 20 lmks :: 100%|██████████| 1000/1000 [02:46<00:00,  6.02it/s]\n"
     ]
    }
   ],
   "source": [
    "res = eg.fun.estimate_n_lanmdarks(dict(Mouse_Hippocampus = adata),\n",
    "                                  n_max_lmks=20,\n",
    "                                  subsample = None,\n",
    "                                  n_epochs=1000,\n",
    "                                  n_evals=10,\n",
    "                                  device=\"gpu\",\n",
    "                                  verbose = True,\n",
    "                                  kneedle_s_param=KNEEDLE_S_PARAM,\n",
    "                                 )"
   ]
  },
  {
   "cell_type": "code",
   "execution_count": 16,
   "id": "0bea818e",
   "metadata": {},
   "outputs": [
    {
     "data": {
      "image/png": "[encoded data removed]",
      "text/plain": [
       "<Figure size 432x288 with 1 Axes>"
      ]
     },
     "metadata": {
      "needs_background": "light"
     },
     "output_type": "display_data"
    }
   ],
   "source": [
    "fig,ax = eg.pl.landmark_diagnostics(res,return_figure=True)\n",
    "if SAVE_MODE:\n",
    "    fig.savefig(osp.join(PLOT_RES_DIR,\"est-lmk-{}.png\".format(sample_name)),\n",
    "                bbox_inches = \"tight\")\n",
    "    with open(osp.join(DATA_RES_DIR,\"est-lmk-{}\".format(sample_name)),\"w+\") as f:\n",
    "        f.write(str(list(res[2].values())[0]))"
   ]
  },
  {
   "cell_type": "markdown",
   "id": "7ff599e6",
   "metadata": {},
   "source": [
    "## Human Breast Cancer"
   ]
  },
  {
   "cell_type": "code",
   "execution_count": null,
   "id": "7fa9eb60",
   "metadata": {},
   "outputs": [],
   "source": [
    "sample_name = \"human-breast-cancer\""
   ]
  },
  {
   "cell_type": "code",
   "execution_count": null,
   "id": "313d9177",
   "metadata": {},
   "outputs": [],
   "source": [
    "HUMAN_BC_PATH = \"../data/human-breast-cancer/curated/bcA.h5ad\"\n",
    "adata = ad.read_h5ad(HUMAN_BC_PATH)"
   ]
  },
  {
   "cell_type": "code",
   "execution_count": null,
   "id": "809d7d70",
   "metadata": {},
   "outputs": [],
   "source": [
    "res = eg.fun.estimate_n_lanmdarks(dict(Mouse_Hippocampus = adata),\n",
    "                                  n_max_lmks=20,\n",
    "                                  subsample = None,\n",
    "                                  n_epochs=1000,\n",
    "                                  n_evals=10,\n",
    "                                  device=\"gpu\",\n",
    "                                  verbose = True,\n",
    "                                  kneedle_s_param=KNEEDLE_S_PARAM,\n",
    "                                 )\n",
    "\n",
    "fig,ax = eg.pl.landmark_diagnostics(res,return_figure=True)\n",
    "\n",
    "if SAVE_MODE:\n",
    "    fig.savefig(osp.join(PLOT_RES_DIR,\"est-lmk-{}.png\".format(sample_name)),\n",
    "                bbox_inches = \"tight\")\n",
    "    \n",
    "    with open(osp.join(DATA_RES_DIR,\"est-lmk-{}\".format(sample_name)),\"w+\") as f:\n",
    "        f.write(str(list(res[2].values())[0]))"
   ]
  }
 ],
 "metadata": {
  "kernelspec": {
   "display_name": "Python 3",
   "language": "python",
   "name": "python3"
  },
  "language_info": {
   "codemirror_mode": {
    "name": "ipython",
    "version": 3
   },
   "file_extension": ".py",
   "mimetype": "text/x-python",
   "name": "python",
   "nbconvert_exporter": "python",
   "pygments_lexer": "ipython3",
   "version": "3.7.5"
  }
 },
 "nbformat": 4,
 "nbformat_minor": 5
}
